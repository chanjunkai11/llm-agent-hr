{
 "cells": [
  {
   "cell_type": "code",
   "execution_count": null,
   "id": "c41048cb-cd4e-43d3-8137-9f993ca100fc",
   "metadata": {},
   "outputs": [],
   "source": [
    "# pip install langchain chromadb ollama langchain-community langchain_ollama pypdf pdfplumber streamlit psycopg2"
   ]
  },
  {
   "cell_type": "code",
   "execution_count": 1,
   "id": "678d8915-4504-45bb-b331-6e2b8d6c485f",
   "metadata": {},
   "outputs": [],
   "source": [
    "from langchain_google_genai import GoogleGenerativeAIEmbeddings\n",
    "import os\n",
    "\n",
    "os.environ[\"GOOGLE_API_KEY\"] =   # Set your Gemini API key here\n",
    "\n",
    "class CustomEmbeddingFunction:\n",
    "    def __init__(self, model_name):\n",
    "        self.embedding_model = GoogleGenerativeAIEmbeddings(model=model_name)\n",
    "\n",
    "    def __call__(self, input):\n",
    "        return self.embedding_model.embed_documents(input)\n",
    "\n",
    "def get_embedding_function(model_name):\n",
    "    embeddings = CustomEmbeddingFunction(model_name)\n",
    "    return embeddings"
   ]
  },
  {
   "cell_type": "code",
   "execution_count": 2,
   "id": "0be9fe3e-b72f-4957-b240-bad45f35c2d4",
   "metadata": {},
   "outputs": [],
   "source": [
    "import chromadb\n",
    "CHROMA_DB_DIR = \"./chroma_db\"\n",
    "chroma_client = chromadb.PersistentClient(path=CHROMA_DB_DIR)\n",
    "\n",
    "# chroma_client.delete_collection(name=\"my_database\")\n",
    "# Set up Chroma as the vector store\n",
    "collection = chroma_client.get_or_create_collection(\n",
    "    name=\"my_database\", metadata={\"hnsw:space\": \"cosine\"}, embedding_function=get_embedding_function(\"models/text-embedding-004\")\n",
    ")"
   ]
  },
  {
   "cell_type": "code",
   "execution_count": 3,
   "id": "2d8ae85e-a034-4e71-af5c-5b97c4908fbf",
   "metadata": {
    "scrolled": true
   },
   "outputs": [
    {
     "name": "stdout",
     "output_type": "stream",
     "text": [
      "🔹 Chunk 1:\n",
      "CREATE SCHEMA hr;\n",
      "\n",
      "CREATE TABLE hr.departments (\n",
      "    department_id SERIAL PRIMARY KEY,\n",
      "    department_name VARCHAR(100) NOT NULL,\n",
      "    location VARCHAR(100)\n",
      ");\n",
      "==================================================\n",
      "🔹 Chunk 2:\n",
      "CREATE TABLE hr.job_roles (\n",
      "    job_id SERIAL PRIMARY KEY,\n",
      "    job_title VARCHAR(100) NOT NULL,\n",
      "    min_salary DECIMAL(10,2),\n",
      "    max_salary DECIMAL(10,2)\n",
      ");\n",
      "==================================================\n",
      "🔹 Chunk 3:\n",
      "CREATE TABLE hr.employees (\n",
      "    employee_id SERIAL PRIMARY KEY,\n",
      "    first_name VARCHAR(50) NOT NULL,\n",
      "    last_name VARCHAR(50) NOT NULL,\n",
      "    email VARCHAR(100) UNIQUE NOT NULL,\n",
      "==================================================\n",
      "🔹 Chunk 4:\n",
      "email VARCHAR(100) UNIQUE NOT NULL,\n",
      "    phone_number VARCHAR(20),\n",
      "    hire_date DATE NOT NULL,\n",
      "    job_id INT REFERENCES hr.job_roles(job_id),\n",
      "==================================================\n",
      "🔹 Chunk 5:\n",
      "job_id INT REFERENCES hr.job_roles(job_id),\n",
      "    department_id INT REFERENCES hr.departments(department_id),\n",
      "    salary DECIMAL(10,2) NOT NULL\n",
      ");\n",
      "==================================================\n"
     ]
    }
   ],
   "source": [
    "from langchain.text_splitter import RecursiveCharacterTextSplitter\n",
    "\n",
    "# Read the SQL schema text file\n",
    "with open(\"HR postgres.txt\", \"r\", encoding=\"utf-8\") as file:\n",
    "    sql_schema = file.read()\n",
    "\n",
    "# Initialize RecursiveCharacterTextSplitter\n",
    "text_splitter = RecursiveCharacterTextSplitter(\n",
    "    chunk_size=200,  # Adjust chunk size as needed\n",
    "    chunk_overlap=50  # Overlap for better context continuity\n",
    ")\n",
    "\n",
    "# Split text into chunks\n",
    "chunks = text_splitter.split_text(sql_schema)  # Pass raw text directly\n",
    "\n",
    "# Print the chunks\n",
    "for i, chunk in enumerate(chunks, 1):\n",
    "    print(f\"🔹 Chunk {i}:\\n{chunk}\\n{'='*50}\")\n"
   ]
  },
  {
   "cell_type": "code",
   "execution_count": 4,
   "id": "bde2ab2d-bcd0-4faa-a67d-ff8fd7088410",
   "metadata": {},
   "outputs": [
    {
     "name": "stdout",
     "output_type": "stream",
     "text": [
      "✅ Successfully added 5 chunks to ChromaDB!\n"
     ]
    }
   ],
   "source": [
    "# Collect all chunks first\n",
    "chunk_ids = [f\"chunk_{i}\" for i in range(len(chunks))]\n",
    "chunk_texts = chunks  # List of chunk texts\n",
    "\n",
    "# Add all chunks at once (batch insert)\n",
    "collection.add(ids=chunk_ids, documents=chunk_texts)\n",
    "print(f\"✅ Successfully added {len(chunks)} chunks to ChromaDB!\")"
   ]
  },
  {
   "cell_type": "code",
   "execution_count": 17,
   "id": "f4d73d59-5e5e-4a66-b042-0e2e94285403",
   "metadata": {},
   "outputs": [
    {
     "name": "stdout",
     "output_type": "stream",
     "text": [
      "(1, 'Alice', 'Johnson', 'alice.johnson@example.com', '123-456-7890', datetime.date(2022, 3, 15), 1, 1, Decimal('75000.00'))\n",
      "(2, 'Bob', 'Smith', 'bob.smith@example.com', '234-567-8901', datetime.date(2021, 7, 10), 2, 2, Decimal('105000.00'))\n",
      "(3, 'Charlie', 'Brown', 'charlie.brown@example.com', '345-678-9012', datetime.date(2023, 1, 20), 3, 3, Decimal('80000.00'))\n"
     ]
    }
   ],
   "source": [
    "import psycopg2\n",
    "\n",
    "# Database connection parameters\n",
    "postgres_ip = \"localhost\"  # Use only the IP or hostname (remove 'http://')\n",
    "postgres_port = \"5432\"\n",
    "database = \"local\"\n",
    "user = \"postgres\"\n",
    "password = \"postgres\"\n",
    "\n",
    "# Establish connection\n",
    "try:\n",
    "    conn = psycopg2.connect(\n",
    "        host=postgres_ip,\n",
    "        port=postgres_port,\n",
    "        database=database,\n",
    "        user=user,\n",
    "        password=password\n",
    "    )\n",
    "    cursor = conn.cursor()\n",
    "    \n",
    "    # Example SQL execution\n",
    "    cursor.execute(\"SELECT * FROM hr.employees;\")\n",
    "    rows = cursor.fetchall()\n",
    "\n",
    "    # Print results\n",
    "    for row in rows:\n",
    "        print(row)\n",
    "\n",
    "    # Close cursor and connection\n",
    "    cursor.close()\n",
    "    conn.close()\n",
    "\n",
    "except Exception as e:\n",
    "    print(\"Error:\", e)"
   ]
  },
  {
   "cell_type": "code",
   "execution_count": 1,
   "id": "8823b485-280b-4cfa-88b4-b5209bae567d",
   "metadata": {},
   "outputs": [
    {
     "name": "stdout",
     "output_type": "stream",
     "text": [
      "3.43.1\n"
     ]
    }
   ],
   "source": [
    "import sqlite3\n",
    "print(sqlite3.sqlite_version)\n"
   ]
  },
  {
   "cell_type": "code",
   "execution_count": null,
   "id": "92e7006e-8efa-4d12-a569-985f98a04156",
   "metadata": {},
   "outputs": [],
   "source": []
  }
 ],
 "metadata": {
  "kernelspec": {
   "display_name": "Python 3 (ipykernel)",
   "language": "python",
   "name": "python3"
  },
  "language_info": {
   "codemirror_mode": {
    "name": "ipython",
    "version": 3
   },
   "file_extension": ".py",
   "mimetype": "text/x-python",
   "name": "python",
   "nbconvert_exporter": "python",
   "pygments_lexer": "ipython3",
   "version": "3.11.8"
  }
 },
 "nbformat": 4,
 "nbformat_minor": 5
}
